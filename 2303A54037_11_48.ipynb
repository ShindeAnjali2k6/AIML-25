{
  "nbformat": 4,
  "nbformat_minor": 0,
  "metadata": {
    "colab": {
      "provenance": [],
      "mount_file_id": "1k4kKX7YEciq1P2Nwe3aU1yenuKk_EMWy",
      "authorship_tag": "ABX9TyM4ejtgELyrs9c4+5ESGpuL",
      "include_colab_link": true
    },
    "kernelspec": {
      "name": "python3",
      "display_name": "Python 3"
    },
    "language_info": {
      "name": "python"
    }
  },
  "cells": [
    {
      "cell_type": "markdown",
      "metadata": {
        "id": "view-in-github",
        "colab_type": "text"
      },
      "source": [
        "<a href=\"https://colab.research.google.com/github/ShindeAnjali2k6/AIML-25/blob/main/2303A54037_11_48.ipynb\" target=\"_parent\"><img src=\"https://colab.research.google.com/assets/colab-badge.svg\" alt=\"Open In Colab\"/></a>"
      ]
    },
    {
      "cell_type": "code",
      "source": [
        "import pandas as pd\n",
        "import numpy as np\n",
        "import matplotlib.pyplot as plt\n",
        "import seaborn as sns\n",
        "from sklearn.preprocessing import LabelEncoder\n",
        "from sklearn.model_selection import train_test_split\n",
        "from sklearn.linear_model import LogisticRegression\n",
        "from sklearn.metrics import accuracy_score, confusion_matrix\n"
      ],
      "metadata": {
        "id": "NKYyVss8r2Hd"
      },
      "execution_count": 10,
      "outputs": []
    },
    {
      "cell_type": "code",
      "source": [
        "\n",
        "df = pd.read_csv('ObesityDataSet_raw_and_data_sinthetic.csv')\n"
      ],
      "metadata": {
        "id": "R08gfUDQstmL"
      },
      "execution_count": 11,
      "outputs": []
    },
    {
      "cell_type": "code",
      "source": [
        "\n",
        "print(df.head())\n",
        "\n",
        "print(df.isnull().sum())\n",
        "\n",
        "print(df.describe())\n",
        "\n",
        "print(df['Gender'].value_counts())\n",
        "\n",
        "print(df.columns)\n",
        "\n",
        "try:\n",
        "    print(df['Family_History_With_Overweight'].value_counts())\n",
        "except KeyError:\n",
        "    print(\"Column 'Family_History_With_Overweight' not found in the DataFrame.\")\n",
        "\n",
        "\n",
        "sns.countplot(x='NObeyesdad', data=df)\n",
        "plt.show()"
      ],
      "metadata": {
        "colab": {
          "base_uri": "https://localhost:8080/",
          "height": 1000
        },
        "id": "LmKp8So3sz3v",
        "outputId": "9601f365-e038-43b0-f017-e17cd9b2e65f"
      },
      "execution_count": 12,
      "outputs": [
        {
          "output_type": "stream",
          "name": "stdout",
          "text": [
            "   Gender   Age  Height  Weight family_history_with_overweight FAVC  FCVC  \\\n",
            "0  Female  21.0    1.62    64.0                            yes   no   2.0   \n",
            "1  Female  21.0    1.52    56.0                            yes   no   3.0   \n",
            "2    Male  23.0    1.80    77.0                            yes   no   2.0   \n",
            "3    Male  27.0    1.80    87.0                             no   no   3.0   \n",
            "4    Male  22.0    1.78    89.8                             no   no   2.0   \n",
            "\n",
            "   NCP       CAEC SMOKE  CH2O  SCC  FAF  TUE        CALC  \\\n",
            "0  3.0  Sometimes    no   2.0   no  0.0  1.0          no   \n",
            "1  3.0  Sometimes   yes   3.0  yes  3.0  0.0   Sometimes   \n",
            "2  3.0  Sometimes    no   2.0   no  2.0  1.0  Frequently   \n",
            "3  3.0  Sometimes    no   2.0   no  2.0  0.0  Frequently   \n",
            "4  1.0  Sometimes    no   2.0   no  0.0  0.0   Sometimes   \n",
            "\n",
            "                  MTRANS           NObeyesdad  \n",
            "0  Public_Transportation        Normal_Weight  \n",
            "1  Public_Transportation        Normal_Weight  \n",
            "2  Public_Transportation        Normal_Weight  \n",
            "3                Walking   Overweight_Level_I  \n",
            "4  Public_Transportation  Overweight_Level_II  \n",
            "Gender                            0\n",
            "Age                               0\n",
            "Height                            0\n",
            "Weight                            0\n",
            "family_history_with_overweight    0\n",
            "FAVC                              0\n",
            "FCVC                              0\n",
            "NCP                               0\n",
            "CAEC                              0\n",
            "SMOKE                             0\n",
            "CH2O                              0\n",
            "SCC                               0\n",
            "FAF                               0\n",
            "TUE                               0\n",
            "CALC                              0\n",
            "MTRANS                            0\n",
            "NObeyesdad                        0\n",
            "dtype: int64\n",
            "               Age       Height       Weight         FCVC          NCP  \\\n",
            "count  2111.000000  2111.000000  2111.000000  2111.000000  2111.000000   \n",
            "mean     24.312600     1.701677    86.586058     2.419043     2.685628   \n",
            "std       6.345968     0.093305    26.191172     0.533927     0.778039   \n",
            "min      14.000000     1.450000    39.000000     1.000000     1.000000   \n",
            "25%      19.947192     1.630000    65.473343     2.000000     2.658738   \n",
            "50%      22.777890     1.700499    83.000000     2.385502     3.000000   \n",
            "75%      26.000000     1.768464   107.430682     3.000000     3.000000   \n",
            "max      61.000000     1.980000   173.000000     3.000000     4.000000   \n",
            "\n",
            "              CH2O          FAF          TUE  \n",
            "count  2111.000000  2111.000000  2111.000000  \n",
            "mean      2.008011     1.010298     0.657866  \n",
            "std       0.612953     0.850592     0.608927  \n",
            "min       1.000000     0.000000     0.000000  \n",
            "25%       1.584812     0.124505     0.000000  \n",
            "50%       2.000000     1.000000     0.625350  \n",
            "75%       2.477420     1.666678     1.000000  \n",
            "max       3.000000     3.000000     2.000000  \n",
            "Gender\n",
            "Male      1068\n",
            "Female    1043\n",
            "Name: count, dtype: int64\n",
            "Index(['Gender', 'Age', 'Height', 'Weight', 'family_history_with_overweight',\n",
            "       'FAVC', 'FCVC', 'NCP', 'CAEC', 'SMOKE', 'CH2O', 'SCC', 'FAF', 'TUE',\n",
            "       'CALC', 'MTRANS', 'NObeyesdad'],\n",
            "      dtype='object')\n",
            "Column 'Family_History_With_Overweight' not found in the DataFrame.\n"
          ]
        },
        {
          "output_type": "display_data",
          "data": {
            "text/plain": [
              "<Figure size 640x480 with 1 Axes>"
            ],
            "image/png": "[encoded data removed]"
          },
          "metadata": {}
        }
      ]
    },
    {
      "cell_type": "code",
      "source": [
        "\n",
        "print(df.columns)\n",
        "\n",
        "column_name = 'family_history_with_overweight'\n",
        "\n",
        "df['Gender'] = le.fit_transform(df['Gender'])\n",
        "df[column_name] = le.fit_transform(df[column_name])\n",
        "X = df.drop('NObeyesdad', axis=1)\n",
        "y = df['NObeyesdad']\n",
        "\n",
        "X_train, X_test, y_train, y_test = train_test_split(X, y, test_size=0.2, random_state=42)"
      ],
      "metadata": {
        "colab": {
          "base_uri": "https://localhost:8080/"
        },
        "id": "tRpcVdDcv6Sh",
        "outputId": "74b46400-f395-4afd-d395-4053745dd789"
      },
      "execution_count": 18,
      "outputs": [
        {
          "output_type": "stream",
          "name": "stdout",
          "text": [
            "Index(['Gender', 'Age', 'Height', 'Weight', 'family_history_with_overweight',\n",
            "       'FAVC', 'FCVC', 'NCP', 'CAEC', 'SMOKE', 'CH2O', 'SCC', 'FAF', 'TUE',\n",
            "       'CALC', 'MTRANS', 'NObeyesdad'],\n",
            "      dtype='object')\n"
          ]
        }
      ]
    },
    {
      "cell_type": "code",
      "source": [
        "\n",
        "le = LabelEncoder()\n",
        "\n",
        "df = pd.read_csv('ObesityDataSet_raw_and_data_sinthetic.csv')\n",
        "print(df.columns)\n",
        "\n",
        "column_name = 'family_history_with_overweight'\n",
        "\n",
        "categorical_cols = ['Gender', column_name, 'FAVC', 'CAEC', 'SMOKE', 'SCC', 'CALC', 'MTRANS', 'NObeyesdad']\n",
        "for col in categorical_cols:\n",
        "    if col in df.columns:\n",
        "        df[col] = le.fit_transform(df[col].astype(str))\n",
        "    else:\n",
        "        print(f\"Column '{col}' not found in DataFrame.\")\n",
        "\n",
        "X = df.drop('NObeyesdad', axis=1)\n",
        "y = df['NObeyesdad']\n",
        "\n",
        "X_train, X_test, y_train, y_test = train_test_split(X, y, test_size=0.2, random_state=42)\n",
        "\n",
        "model = LogisticRegression()\n",
        "model.fit(X_train, y_train)\n",
        "\n",
        "y_pred = model.predict(X_test)\n",
        "\n",
        "accuracy = accuracy_score(y_test, y_pred)\n",
        "print(\"Accuracy:\", accuracy)\n",
        "\n",
        "cm = confusion_matrix(y_test, y_pred)\n",
        "print(\"Confusion Matrix:\\n\", cm)"
      ],
      "metadata": {
        "colab": {
          "base_uri": "https://localhost:8080/"
        },
        "id": "dl7LNJ_ewZF_",
        "outputId": "53256e11-f6b1-4655-bd74-9ab81f499c6e"
      },
      "execution_count": 20,
      "outputs": [
        {
          "output_type": "stream",
          "name": "stdout",
          "text": [
            "Index(['Gender', 'Age', 'Height', 'Weight', 'family_history_with_overweight',\n",
            "       'FAVC', 'FCVC', 'NCP', 'CAEC', 'SMOKE', 'CH2O', 'SCC', 'FAF', 'TUE',\n",
            "       'CALC', 'MTRANS', 'NObeyesdad'],\n",
            "      dtype='object')\n",
            "Accuracy: 0.6548463356973995\n",
            "Confusion Matrix:\n",
            " [[52  2  0  0  0  2  0]\n",
            " [17 26  4  1  1  6  7]\n",
            " [ 0  0 47  9  6  3 13]\n",
            " [ 0  0  3 49  0  0  6]\n",
            " [ 0  0  0  0 63  0  0]\n",
            " [ 1 14 11  0  0 21  9]\n",
            " [ 0  7 16  1  0  7 19]]\n"
          ]
        },
        {
          "output_type": "stream",
          "name": "stderr",
          "text": [
            "/usr/local/lib/python3.10/dist-packages/sklearn/linear_model/_logistic.py:469: ConvergenceWarning: lbfgs failed to converge (status=1):\n",
            "STOP: TOTAL NO. of ITERATIONS REACHED LIMIT.\n",
            "\n",
            "Increase the number of iterations (max_iter) or scale the data as shown in:\n",
            "    https://scikit-learn.org/stable/modules/preprocessing.html\n",
            "Please also refer to the documentation for alternative solver options:\n",
            "    https://scikit-learn.org/stable/modules/linear_model.html#logistic-regression\n",
            "  n_iter_i = _check_optimize_result(\n"
          ]
        }
      ]
    },
    {
      "cell_type": "code",
      "source": [
        "\n",
        "print(df.groupby('NObeyesdad').size().sort_values(ascending=False).head(5))\n",
        "print(df.groupby('Age').size().sort_values(ascending=False).head(1))\n",
        "print(df[df['NObeyesdad'] == 'Obesity_Type_II'][['Weight']].max())\n",
        "print(df[df['NObeyesdad'] == 'Obesity_Type_II'][['Weight']].min())"
      ],
      "metadata": {
        "colab": {
          "base_uri": "https://localhost:8080/"
        },
        "id": "Jq3mZaSxwjSK",
        "outputId": "e82f1555-1a65-443f-832d-3a77eb55365a"
      },
      "execution_count": 21,
      "outputs": [
        {
          "output_type": "stream",
          "name": "stdout",
          "text": [
            "NObeyesdad\n",
            "2    351\n",
            "4    324\n",
            "3    297\n",
            "5    290\n",
            "6    290\n",
            "dtype: int64\n",
            "Age\n",
            "18.0    128\n",
            "dtype: int64\n",
            "Weight   NaN\n",
            "dtype: float64\n",
            "Weight   NaN\n",
            "dtype: float64\n"
          ]
        }
      ]
    }
  ]
}